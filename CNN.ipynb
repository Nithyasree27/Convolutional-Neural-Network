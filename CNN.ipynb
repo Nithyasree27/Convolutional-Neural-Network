{
 "cells": [
  {
   "cell_type": "code",
   "execution_count": 1,
   "id": "53bbf911",
   "metadata": {},
   "outputs": [],
   "source": [
    "import mnist \n",
    "import matplotlib.pyplot as plt\n",
    "import numpy as np\n",
    "import tensorflow as tf"
   ]
  },
  {
   "cell_type": "code",
   "execution_count": 2,
   "id": "34af0b48",
   "metadata": {},
   "outputs": [],
   "source": [
    "train_img=mnist.train_images()[0:1000]\n",
    "train_lbs=mnist.train_labels()[0:1000]\n",
    "test_img=mnist.test_images()[0:1000]\n",
    "test_lbs=mnist.test_labels()[0:1000]"
   ]
  },
  {
   "cell_type": "code",
   "execution_count": 3,
   "id": "389e8818",
   "metadata": {},
   "outputs": [
    {
     "data": {
      "text/plain": [
       "<matplotlib.image.AxesImage at 0x2163f0fad30>"
      ]
     },
     "execution_count": 3,
     "metadata": {},
     "output_type": "execute_result"
    },
    {
     "data": {
      "image/png": "[encoded data removed]",
      "text/plain": [
       "<Figure size 432x288 with 1 Axes>"
      ]
     },
     "metadata": {
      "needs_background": "light"
     },
     "output_type": "display_data"
    }
   ],
   "source": [
    "plt.imshow(train_img[0]) "
   ]
  },
  {
   "cell_type": "code",
   "execution_count": 4,
   "id": "3ed4a71e",
   "metadata": {},
   "outputs": [
    {
     "data": {
      "text/plain": [
       "<matplotlib.image.AxesImage at 0x2163f2081f0>"
      ]
     },
     "execution_count": 4,
     "metadata": {},
     "output_type": "execute_result"
    },
    {
     "data": {
      "image/png": "[encoded data removed]",
      "text/plain": [
       "<Figure size 432x288 with 1 Axes>"
      ]
     },
     "metadata": {
      "needs_background": "light"
     },
     "output_type": "display_data"
    }
   ],
   "source": [
    "plt.imshow(train_img[0],plt.get_cmap(\"Greys\")) # get_cmap for changing the colour scale"
   ]
  },
  {
   "cell_type": "code",
   "execution_count": 5,
   "id": "542e8358",
   "metadata": {},
   "outputs": [
    {
     "data": {
      "text/plain": [
       "(28, 28)"
      ]
     },
     "execution_count": 5,
     "metadata": {},
     "output_type": "execute_result"
    }
   ],
   "source": [
    "train_img[0].shape"
   ]
  },
  {
   "cell_type": "code",
   "execution_count": 6,
   "id": "432a7328",
   "metadata": {},
   "outputs": [],
   "source": [
    "from keras.models import Sequential\n",
    "from tensorflow.keras import layers\n",
    "from keras.layers import Conv2D, MaxPooling2D,Flatten"
   ]
  },
  {
   "cell_type": "code",
   "execution_count": 7,
   "id": "0af19404",
   "metadata": {},
   "outputs": [],
   "source": [
    "model=Sequential()\n",
    "model.add(layers.Conv2D(32,(3,3),activation='relu',input_shape=(28,28,1)))#convolution layer\n",
    "model.add(layers.MaxPooling2D(pool_size=(2,2)))#Maxpooling layer\n",
    "model.add(layers.Conv2D(64,(2,2),activation='relu'))#Maxpooling layer\n",
    "model.add(layers.MaxPooling2D(pool_size=(2,2)))#Maxpooling layer\n",
    "model.add(layers.Flatten())#fully connected layer\n",
    "model.add(layers.Dense(64,activation='relu'))\n",
    "model.add(layers.Dense(10,activation='softmax'))\n",
    "model.compile(loss='categorical_crossentropy',optimizer='adam',metrics=['accuracy'])"
   ]
  },
  {
   "cell_type": "code",
   "execution_count": 8,
   "id": "9dce5a78",
   "metadata": {},
   "outputs": [
    {
     "data": {
      "text/plain": [
       "dtype('uint8')"
      ]
     },
     "execution_count": 8,
     "metadata": {},
     "output_type": "execute_result"
    }
   ],
   "source": [
    "train_lbs.dtype"
   ]
  },
  {
   "cell_type": "code",
   "execution_count": 9,
   "id": "738d1c25",
   "metadata": {},
   "outputs": [],
   "source": [
    "#converting to categorical data type\n",
    "train_lbs=tf.keras.utils.to_categorical(train_lbs)\n",
    "test_lbs=tf.keras.utils.to_categorical(test_lbs)"
   ]
  },
  {
   "cell_type": "code",
   "execution_count": 10,
   "id": "8a196b05",
   "metadata": {},
   "outputs": [
    {
     "data": {
      "text/plain": [
       "dtype('uint8')"
      ]
     },
     "execution_count": 10,
     "metadata": {},
     "output_type": "execute_result"
    }
   ],
   "source": [
    "train_img.dtype"
   ]
  },
  {
   "cell_type": "code",
   "execution_count": 11,
   "id": "1b87ff99",
   "metadata": {},
   "outputs": [
    {
     "data": {
      "text/plain": [
       "(1000, 28, 28)"
      ]
     },
     "execution_count": 11,
     "metadata": {},
     "output_type": "execute_result"
    }
   ],
   "source": [
    "train_img.shape"
   ]
  },
  {
   "cell_type": "code",
   "execution_count": 12,
   "id": "0a4e34e8",
   "metadata": {},
   "outputs": [],
   "source": [
    "train_img=train_img.reshape(1000,28,28,1) # reshaping to add colour dimension\n",
    "test_img=test_img.reshape(1000,28,28,1) "
   ]
  },
  {
   "cell_type": "code",
   "execution_count": 13,
   "id": "2f655cb1",
   "metadata": {},
   "outputs": [
    {
     "data": {
      "text/plain": [
       "(1000, 28, 28, 1)"
      ]
     },
     "execution_count": 13,
     "metadata": {},
     "output_type": "execute_result"
    }
   ],
   "source": [
    "train_img.shape"
   ]
  },
  {
   "cell_type": "code",
   "execution_count": 14,
   "id": "cccfff5d",
   "metadata": {},
   "outputs": [],
   "source": [
    "train_img=train_img.astype('float32')/255 \n",
    "test_img=test_img.astype('float32')/255# changing the dtype of train_img and dividing by 255 to flatten the data"
   ]
  },
  {
   "cell_type": "code",
   "execution_count": 15,
   "id": "48c253e0",
   "metadata": {},
   "outputs": [
    {
     "data": {
      "text/plain": [
       "dtype('float32')"
      ]
     },
     "execution_count": 15,
     "metadata": {},
     "output_type": "execute_result"
    }
   ],
   "source": [
    "train_img.dtype"
   ]
  },
  {
   "cell_type": "code",
   "execution_count": 16,
   "id": "3efc8aec",
   "metadata": {},
   "outputs": [
    {
     "name": "stdout",
     "output_type": "stream",
     "text": [
      "Epoch 1/10\n",
      "32/32 [==============================] - 1s 21ms/step - loss: 1.5797 - accuracy: 0.5500\n",
      "Epoch 2/10\n",
      "32/32 [==============================] - 1s 26ms/step - loss: 0.5810 - accuracy: 0.8250\n",
      "Epoch 3/10\n",
      "32/32 [==============================] - 1s 22ms/step - loss: 0.4015 - accuracy: 0.8730\n",
      "Epoch 4/10\n",
      "32/32 [==============================] - 1s 20ms/step - loss: 0.2802 - accuracy: 0.9180\n",
      "Epoch 5/10\n",
      "32/32 [==============================] - 1s 21ms/step - loss: 0.2136 - accuracy: 0.9350\n",
      "Epoch 6/10\n",
      "32/32 [==============================] - 1s 22ms/step - loss: 0.1509 - accuracy: 0.9610\n",
      "Epoch 7/10\n",
      "32/32 [==============================] - 1s 21ms/step - loss: 0.1252 - accuracy: 0.9650\n",
      "Epoch 8/10\n",
      "32/32 [==============================] - 1s 37ms/step - loss: 0.0847 - accuracy: 0.9770\n",
      "Epoch 9/10\n",
      "32/32 [==============================] - 1s 26ms/step - loss: 0.0709 - accuracy: 0.9790\n",
      "Epoch 10/10\n",
      "32/32 [==============================] - 1s 23ms/step - loss: 0.0384 - accuracy: 0.9900\n"
     ]
    },
    {
     "data": {
      "text/plain": [
       "<keras.callbacks.History at 0x2163f393970>"
      ]
     },
     "execution_count": 16,
     "metadata": {},
     "output_type": "execute_result"
    }
   ],
   "source": [
    "model.fit(train_img,train_lbs,epochs=10)"
   ]
  },
  {
   "cell_type": "code",
   "execution_count": 17,
   "id": "f3c94f11",
   "metadata": {},
   "outputs": [
    {
     "name": "stdout",
     "output_type": "stream",
     "text": [
      "32/32 [==============================] - 0s 7ms/step - loss: 0.2054 - accuracy: 0.9300\n"
     ]
    },
    {
     "data": {
      "text/plain": [
       "[0.20541201531887054, 0.9300000071525574]"
      ]
     },
     "execution_count": 17,
     "metadata": {},
     "output_type": "execute_result"
    }
   ],
   "source": [
    "model.evaluate(test_img,test_lbs)"
   ]
  },
  {
   "cell_type": "code",
   "execution_count": 18,
   "id": "1d48d97e",
   "metadata": {},
   "outputs": [
    {
     "name": "stdout",
     "output_type": "stream",
     "text": [
      "32/32 [==============================] - 0s 8ms/step - loss: 0.0245 - accuracy: 0.9980\n"
     ]
    },
    {
     "data": {
      "text/plain": [
       "[0.02449595369398594, 0.9980000257492065]"
      ]
     },
     "execution_count": 18,
     "metadata": {},
     "output_type": "execute_result"
    }
   ],
   "source": [
    "model.evaluate(train_img,train_lbs)"
   ]
  }
 ],
 "metadata": {
  "kernelspec": {
   "display_name": "Python 3 (ipykernel)",
   "language": "python",
   "name": "python3"
  },
  "language_info": {
   "codemirror_mode": {
    "name": "ipython",
    "version": 3
   },
   "file_extension": ".py",
   "mimetype": "text/x-python",
   "name": "python",
   "nbconvert_exporter": "python",
   "pygments_lexer": "ipython3",
   "version": "3.9.7"
  }
 },
 "nbformat": 4,
 "nbformat_minor": 5
}
